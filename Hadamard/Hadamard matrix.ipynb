{
 "cells": [
  {
   "cell_type": "code",
   "execution_count": 1,
   "metadata": {
    "collapsed": true
   },
   "outputs": [],
   "source": [
    "import numpy as np\n",
    "# H_1 \n",
    "H1 = np.array([[1,1],[1,-1]])"
   ]
  },
  {
   "cell_type": "markdown",
   "metadata": {},
   "source": [
    "$$ H_n+1 = H_n \\otimes H_1 $$\n",
    "\n",
    "$\\otimes$은 크로네커 곱\n",
    "\n",
    "책에는 카테시안 곱으로 나와있지만 크로네커 곱으로 구하는 방법도 있다.\n"
   ]
  },
  {
   "cell_type": "code",
   "execution_count": 5,
   "metadata": {},
   "outputs": [
    {
     "name": "stdout",
     "output_type": "stream",
     "text": [
      "[[ 1  1  1  1]\n",
      " [ 1 -1  1 -1]\n",
      " [ 1  1 -1 -1]\n",
      " [ 1 -1 -1  1]]\n"
     ]
    }
   ],
   "source": [
    "H2 = np.kron(H1,H1)\n",
    "print(H2)"
   ]
  },
  {
   "cell_type": "code",
   "execution_count": 6,
   "metadata": {},
   "outputs": [
    {
     "name": "stdout",
     "output_type": "stream",
     "text": [
      "[[ 1  1  1  1  1  1  1  1]\n",
      " [ 1 -1  1 -1  1 -1  1 -1]\n",
      " [ 1  1 -1 -1  1  1 -1 -1]\n",
      " [ 1 -1 -1  1  1 -1 -1  1]\n",
      " [ 1  1  1  1 -1 -1 -1 -1]\n",
      " [ 1 -1  1 -1 -1  1 -1  1]\n",
      " [ 1  1 -1 -1 -1 -1  1  1]\n",
      " [ 1 -1 -1  1 -1  1  1 -1]]\n"
     ]
    }
   ],
   "source": [
    "H3 = np.kron(H2, H1)\n",
    "print(H3)"
   ]
  },
  {
   "cell_type": "code",
   "execution_count": 7,
   "metadata": {},
   "outputs": [
    {
     "name": "stdout",
     "output_type": "stream",
     "text": [
      "[[ 1  1  1  1  1  1  1  1  1  1  1  1  1  1  1  1]\n",
      " [ 1 -1  1 -1  1 -1  1 -1  1 -1  1 -1  1 -1  1 -1]\n",
      " [ 1  1 -1 -1  1  1 -1 -1  1  1 -1 -1  1  1 -1 -1]\n",
      " [ 1 -1 -1  1  1 -1 -1  1  1 -1 -1  1  1 -1 -1  1]\n",
      " [ 1  1  1  1 -1 -1 -1 -1  1  1  1  1 -1 -1 -1 -1]\n",
      " [ 1 -1  1 -1 -1  1 -1  1  1 -1  1 -1 -1  1 -1  1]\n",
      " [ 1  1 -1 -1 -1 -1  1  1  1  1 -1 -1 -1 -1  1  1]\n",
      " [ 1 -1 -1  1 -1  1  1 -1  1 -1 -1  1 -1  1  1 -1]\n",
      " [ 1  1  1  1  1  1  1  1 -1 -1 -1 -1 -1 -1 -1 -1]\n",
      " [ 1 -1  1 -1  1 -1  1 -1 -1  1 -1  1 -1  1 -1  1]\n",
      " [ 1  1 -1 -1  1  1 -1 -1 -1 -1  1  1 -1 -1  1  1]\n",
      " [ 1 -1 -1  1  1 -1 -1  1 -1  1  1 -1 -1  1  1 -1]\n",
      " [ 1  1  1  1 -1 -1 -1 -1 -1 -1 -1 -1  1  1  1  1]\n",
      " [ 1 -1  1 -1 -1  1 -1  1 -1  1 -1  1  1 -1  1 -1]\n",
      " [ 1  1 -1 -1 -1 -1  1  1 -1 -1  1  1  1  1 -1 -1]\n",
      " [ 1 -1 -1  1 -1  1  1 -1 -1  1  1 -1  1 -1 -1  1]]\n"
     ]
    }
   ],
   "source": [
    "H4 = np.kron(H3, H1)\n",
    "print(H4)"
   ]
  },
  {
   "cell_type": "code",
   "execution_count": 9,
   "metadata": {},
   "outputs": [
    {
     "name": "stdout",
     "output_type": "stream",
     "text": [
      "[[ 1  1  1 ...,  1  1  1]\n",
      " [ 1 -1  1 ..., -1  1 -1]\n",
      " [ 1  1 -1 ...,  1 -1 -1]\n",
      " ..., \n",
      " [ 1 -1  1 ...,  1 -1  1]\n",
      " [ 1  1 -1 ..., -1  1  1]\n",
      " [ 1 -1 -1 ...,  1  1 -1]]\n"
     ]
    }
   ],
   "source": [
    "H5 = np.kron(H4, H1)\n",
    "print(H5)"
   ]
  }
 ],
 "metadata": {
  "kernelspec": {
   "display_name": "Python 3",
   "language": "python",
   "name": "python3"
  },
  "language_info": {
   "codemirror_mode": {
    "name": "ipython",
    "version": 3
   },
   "file_extension": ".py",
   "mimetype": "text/x-python",
   "name": "python",
   "nbconvert_exporter": "python",
   "pygments_lexer": "ipython3",
   "version": "3.6.1"
  }
 },
 "nbformat": 4,
 "nbformat_minor": 2
}
